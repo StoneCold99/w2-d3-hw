{
 "cells": [
  {
   "cell_type": "markdown",
   "metadata": {},
   "source": [
    "# Dictionaries & Sets"
   ]
  },
  {
   "cell_type": "markdown",
   "metadata": {},
   "source": [
    "## Tasks Today:\n",
    "\n",
    "1) Dictionary <br>\n",
    " &nbsp;&nbsp;&nbsp;&nbsp; a) Declaring (key, value) <br>\n",
    " &nbsp;&nbsp;&nbsp;&nbsp; b) Accessing Values <br>\n",
    " &nbsp;&nbsp;&nbsp;&nbsp; ------ Exercise #1 - Print the eye color of each person in a double nested dict <br>\n",
    " &nbsp;&nbsp;&nbsp;&nbsp; c) Adding New Pairs <br>\n",
    " &nbsp;&nbsp;&nbsp;&nbsp; d) Modifying Values <br>\n",
    " &nbsp;&nbsp;&nbsp;&nbsp; e) Removing Key, Value Pairs <br>\n",
    " &nbsp;&nbsp;&nbsp;&nbsp; f) Looping a Dictionary <br>\n",
    " &nbsp;&nbsp;&nbsp;&nbsp; g) Looping Only Keys <br>\n",
    " &nbsp;&nbsp;&nbsp;&nbsp; h) Looping Only Values <br>\n",
    " &nbsp;&nbsp;&nbsp;&nbsp; ------ Exercise #2 - Create a Function that Prints All Key Value Pairs within a print .format()  <br>\n",
    " &nbsp;&nbsp;&nbsp;&nbsp; i) sorted() <br>\n",
    " &nbsp;&nbsp;&nbsp;&nbsp; j) Lists with Dictionaries <br>\n",
    " &nbsp;&nbsp;&nbsp;&nbsp; k) Dictionaries with Lists <br>\n",
    " &nbsp;&nbsp;&nbsp;&nbsp; l) Dictionaries with Dictionaries <br>\n",
    " &nbsp;&nbsp;&nbsp;&nbsp; ------ Exercise #3 - Write a Function that asks someone's name and address, and then stores that into a dictionary, which prints all names and addresses after they're done putting information in...  <br>\n",
    "2) Dictionaries vs. Lists (over time)<br>\n",
    "3) Set <br>\n",
    " &nbsp;&nbsp;&nbsp;&nbsp; a) Declaring <br>\n",
    " &nbsp;&nbsp;&nbsp;&nbsp; b) .add() <br>\n",
    " &nbsp;&nbsp;&nbsp;&nbsp; c) .remove() <br>\n",
    " &nbsp;&nbsp;&nbsp;&nbsp; d) .union() <br>\n",
    " &nbsp;&nbsp;&nbsp;&nbsp; e) .intersection() <br>\n",
    " &nbsp;&nbsp;&nbsp;&nbsp; f) .difference() <br>\n",
    " &nbsp;&nbsp;&nbsp;&nbsp; g) Frozen Set <br>\n",
    "4) Modules <br>\n",
    " &nbsp;&nbsp;&nbsp;&nbsp; a) Importing Entire Modules <br>\n",
    " &nbsp;&nbsp;&nbsp;&nbsp; b) Importing Methods Only <br>\n",
    " &nbsp;&nbsp;&nbsp;&nbsp; c) Using the 'as' Keyword <br>\n",
    " &nbsp;&nbsp;&nbsp;&nbsp; d) Creating a Module <br>\n",
    "5) Exercises <br>\n",
    " &nbsp;&nbsp;&nbsp;&nbsp; a) Build a Shopping Cart <br>\n",
    " &nbsp;&nbsp;&nbsp;&nbsp; b) Create Your Own Module <br>"
   ]
  },
  {
   "cell_type": "markdown",
   "metadata": {},
   "source": [
    "## Dictionary <br>\n",
    "<p>A collection of data with 'key:value' pairs. Dictionaries are ordered as of Python 3.6</p>"
   ]
  },
  {
   "cell_type": "markdown",
   "metadata": {},
   "source": [
    "##### Declaring (key, value)"
   ]
  },
  {
   "cell_type": "code",
   "execution_count": 37,
   "metadata": {},
   "outputs": [
    {
     "name": "stdout",
     "output_type": "stream",
     "text": [
      "{}\n",
      "{}\n",
      "{'Tom': '255 main street', 'Jerry': '256 main street', 0: 'this is a 0'}\n"
     ]
    }
   ],
   "source": [
    "# keys should be unique\n",
    "# can use numbers or strings as keys\n",
    "d_1 = {}\n",
    "print (d_1)\n",
    "\n",
    "\n",
    "# or\n",
    "\n",
    "d_2 = dict()\n",
    "print (d_2)\n",
    "\n",
    "#declaring a dict with key value pairs\n",
    "\n",
    "d_3 = {\n",
    "    \"Tom\" :\"255 main street\",\n",
    "    \"Jerry\" : \"256 main street\",\n",
    "    0: \"this is a 0\"\n",
    "}\n",
    "\n",
    "print (d_3)\n",
    "\n",
    "# d_2[\"some\"] = \"value\"\n",
    "\n",
    "# print(d_2)=\n",
    "\n",
    "\n",
    "\n",
    "\n"
   ]
  },
  {
   "cell_type": "markdown",
   "metadata": {},
   "source": [
    "##### Accessing Values"
   ]
  },
  {
   "cell_type": "code",
   "execution_count": 38,
   "metadata": {},
   "outputs": [
    {
     "name": "stdout",
     "output_type": "stream",
     "text": [
      "juan\n"
     ]
    }
   ],
   "source": [
    "names = [\"juan\",\"berik\",\"connor\"]\n",
    "print (names[0])\n"
   ]
  },
  {
   "cell_type": "code",
   "execution_count": 39,
   "metadata": {},
   "outputs": [
    {
     "name": "stdout",
     "output_type": "stream",
     "text": [
      "255 main street\n",
      "256 main street\n",
      "this is a 0\n"
     ]
    }
   ],
   "source": [
    "d_3 = {\n",
    "    \"Tom\" :\"255 main street\",\n",
    "    \"Jerry\" : \"256 main street\",\n",
    "    0: \"this is a 0\"\n",
    "}\n",
    "print (d_3[\"Tom\"])\n",
    "print (d_3[\"Jerry\"])\n",
    "print (d_3[0])"
   ]
  },
  {
   "cell_type": "code",
   "execution_count": 40,
   "metadata": {},
   "outputs": [
    {
     "name": "stdout",
     "output_type": "stream",
     "text": [
      "When i am super tired i will get a 20 oz americano\n"
     ]
    }
   ],
   "source": [
    "drink_sizes = {\n",
    "    \"tall\": \"12 oz\",\n",
    "    \"grande\": \"16 oz\",\n",
    "    \"venti\": \"20 oz\"\n",
    "}\n",
    "print(f'When i am super tired i will get a {drink_sizes[\"venti\"]} americano')"
   ]
  },
  {
   "cell_type": "code",
   "execution_count": 41,
   "metadata": {},
   "outputs": [
    {
     "name": "stdout",
     "output_type": "stream",
     "text": [
      "255 main street\n",
      "None\n",
      "257 Main St\n",
      "{'Tom': '255 main street', 'Jerry': '256 main street', 0: 'this is a 0'}\n"
     ]
    }
   ],
   "source": [
    "#dict.get(key, value)\n",
    "address = d_3.get(\"Tom\")\n",
    "print(address)\n",
    "\n",
    "name = d_3.get (\"255 Main street\")\n",
    "print (name)\n",
    "\n",
    "# does add to dictionary but will return the value instead of none if the key is not found\n",
    "name2 = d_3.get(\"Spike\", \"257 Main St\")\n",
    "print(name2)\n",
    "\n",
    "print(d_3)"
   ]
  },
  {
   "cell_type": "markdown",
   "metadata": {},
   "source": [
    "## In-Class Exercise #1 - Print a formatted statement from the dictionary below <br>\n",
    "<p>The output should be '2018 Chevrolet Silverado'</p>"
   ]
  },
  {
   "cell_type": "code",
   "execution_count": 42,
   "metadata": {},
   "outputs": [
    {
     "name": "stdout",
     "output_type": "stream",
     "text": [
      "2018 Chevrolet Silverado\n"
     ]
    }
   ],
   "source": [
    "# use the dict below\n",
    "truck = {\n",
    "    \"year\": 2018,\n",
    "    'make': 'Chevrolet',\n",
    "    'model': 'Silverado'\n",
    "}\n",
    "\n",
    "#example on how to answer the question above \n",
    "print(truck[\"year\"],truck[\"make\"], truck[\"model\"])\n",
    "\n",
    "\n"
   ]
  },
  {
   "cell_type": "markdown",
   "metadata": {},
   "source": [
    "##### Adding New Pairs"
   ]
  },
  {
   "cell_type": "code",
   "execution_count": 43,
   "metadata": {},
   "outputs": [
    {
     "name": "stdout",
     "output_type": "stream",
     "text": [
      "{'Tom': '255 main street', 'Jerry': '256 main street', 0: 'this is a 0'}\n",
      "{'Tom': '255 main street', 'Jerry': '256 main street', 0: 'this is a 0', 'spike': '257 main street'}\n",
      "{'Tom': '255 main street', 'Jerry': '256 main street', 0: 'this is a 0', 'spike': '257 main street', 'Tike': '257 main street'}\n",
      "{'Tom': '255 main street', 'Jerry': '256 main street', 0: 'this is a 0', 'spike': '257 main street', 'Tike': '257 main street', 1: 'this is a 1'}\n"
     ]
    }
   ],
   "source": [
    "# dict[key] = value\n",
    "# keys in a dictionary NEED TO BE UNIQUE\n",
    "d_3 = {\n",
    "    \"Tom\" :\"255 main street\",\n",
    "    \"Jerry\" : \"256 main street\",\n",
    "    0: \"this is a 0\"\n",
    "}\n",
    "print(d_3)\n",
    "\n",
    "#adding too the dictionary \n",
    "d_3[\"spike\"]= \"257 main street\"\n",
    "print(d_3)\n",
    "\n",
    "d_3[\"Tike\"] = \"257 main street\"\n",
    "print (d_3)\n",
    "\n",
    "d_3[1] = \"this is a 1\"\n",
    "print (d_3)\n",
    "\n"
   ]
  },
  {
   "cell_type": "markdown",
   "metadata": {},
   "source": [
    "##### Modifying Values"
   ]
  },
  {
   "cell_type": "code",
   "execution_count": 44,
   "metadata": {},
   "outputs": [
    {
     "name": "stdout",
     "output_type": "stream",
     "text": [
      "{'Tom': '255 main street', 'Jerry': '256 main street', 0: 'this is a 0', 'spike': '257 main street', 'Tike': '257 main street', 1: 'this is a 1'}\n",
      "{'Tom': '254 Main street', 'Jerry': '254 Main street', 0: 'this is a 0', 'spike': '257 main street', 'Tike': '257 main street', 1: 'this is a 1'}\n"
     ]
    }
   ],
   "source": [
    "# dict[key] = value\n",
    "# looks the same as adding values, only diff is the key already exists in the dictionary\n",
    "#dict[key] give us a value in the dict\n",
    "\n",
    "#setting a variable to a value in a dictionary\n",
    "dog_address = d_3[\"spike\"]\n",
    "print (d_3)\n",
    "\n",
    "d_3[\"Tom\"] = \"254 Main street\"\n",
    "d_3[\"Jerry\"] = \"254 Main street\"\n",
    "print (d_3)\n"
   ]
  },
  {
   "cell_type": "code",
   "execution_count": 45,
   "metadata": {},
   "outputs": [
    {
     "name": "stdout",
     "output_type": "stream",
     "text": [
      "257 Main St\n",
      "300 Blossom Rd\n",
      "300 Blossom Rd\n"
     ]
    }
   ],
   "source": [
    "\n",
    "address = \"257 Main St\"\n",
    "print(address)\n",
    "\n",
    "d_3[\"Spike\"] = \"300 Blossom Rd\"\n",
    "print(d_3[\"Spike\"]) \n",
    "\n",
    "address = \"300 Blossom Rd\"\n",
    "print(address)"
   ]
  },
  {
   "cell_type": "markdown",
   "metadata": {},
   "source": [
    "##### Removing Key, Value Pairs"
   ]
  },
  {
   "cell_type": "code",
   "execution_count": 46,
   "metadata": {},
   "outputs": [
    {
     "name": "stdout",
     "output_type": "stream",
     "text": [
      "{'Tom': '254 Main street', 'Jerry': '254 Main street', 0: 'this is a 0', 'spike': '257 main street', 'Tike': '257 main street', 1: 'this is a 1', 'Spike': '300 Blossom Rd'}\n",
      "{'Tom': '254 Main street', 'Jerry': '254 Main street', 'spike': '257 main street', 'Tike': '257 main street', 1: 'this is a 1', 'Spike': '300 Blossom Rd'}\n"
     ]
    }
   ],
   "source": [
    "# del dict[key]\n",
    "print (d_3)\n",
    "\n",
    "del d_3[0]\n",
    "print (d_3)\n",
    "\n",
    "\n",
    "\n",
    "\n",
    "\n"
   ]
  },
  {
   "cell_type": "markdown",
   "metadata": {},
   "source": [
    "##### Looping a Dictionary"
   ]
  },
  {
   "cell_type": "code",
   "execution_count": 47,
   "metadata": {},
   "outputs": [
    {
     "name": "stdout",
     "output_type": "stream",
     "text": [
      "{'Tom': '254 Main street', 'Jerry': '254 Main street', 'spike': '257 main street', 'Tike': '257 main street', 1: 'this is a 1', 'Spike': '300 Blossom Rd'}\n",
      "dict_items([('Tom', '254 Main street'), ('Jerry', '254 Main street'), ('spike', '257 main street'), ('Tike', '257 main street'), (1, 'this is a 1'), ('Spike', '300 Blossom Rd')])\n",
      "\n",
      "\n",
      "Tom 254 Main street\n",
      "Jerry 254 Main street\n",
      "spike 257 main street\n",
      "Tike 257 main street\n",
      "1 this is a 1\n",
      "Spike 300 Blossom Rd\n"
     ]
    }
   ],
   "source": [
    "# dict.items()\n",
    "# a, b, c = 1, 2, 3\n",
    "print(d_3)\n",
    "d_3_items = d_3.items()\n",
    "print(d_3_items)\n",
    "print(\"\\n\")\n",
    "#  key, value\n",
    "for k, v in d_3.items():\n",
    "    print(k, v)\n",
    "    \n",
    "# referencing a key from the value    \n",
    "for k, v in d_3.items():\n",
    "    if v == \"254 Main St\":\n",
    "        print(k)"
   ]
  },
  {
   "cell_type": "code",
   "execution_count": 48,
   "metadata": {},
   "outputs": [
    {
     "ename": "AttributeError",
     "evalue": "'NoneType' object has no attribute 'address'",
     "output_type": "error",
     "traceback": [
      "\u001b[0;31m---------------------------------------------------------------------------\u001b[0m",
      "\u001b[0;31mAttributeError\u001b[0m                            Traceback (most recent call last)",
      "Cell \u001b[0;32mIn[48], line 1\u001b[0m\n\u001b[0;32m----> 1\u001b[0m \u001b[39mfor\u001b[39;00m name \u001b[39m.\u001b[39;49maddress \u001b[39min\u001b[39;00m d_3\u001b[39m.\u001b[39mitems():\n\u001b[1;32m      2\u001b[0m     \u001b[39mprint\u001b[39m (\u001b[39mf\u001b[39m\u001b[39m\"\u001b[39m\u001b[39m{\u001b[39;00mname\u001b[39m}\u001b[39;00m\u001b[39mlives at \u001b[39m\u001b[39m{\u001b[39;00maddress\u001b[39m}\u001b[39;00m\u001b[39m\"\u001b[39m)\n",
      "\u001b[0;31mAttributeError\u001b[0m: 'NoneType' object has no attribute 'address'"
     ]
    }
   ],
   "source": [
    "for name .address in d_3.items():\n",
    "    print (f\"{name}lives at {address}\")"
   ]
  },
  {
   "cell_type": "markdown",
   "metadata": {},
   "source": [
    "##### Looping Only Keys"
   ]
  },
  {
   "cell_type": "code",
   "execution_count": null,
   "metadata": {},
   "outputs": [
    {
     "ename": "SyntaxError",
     "evalue": "invalid syntax (1839476076.py, line 2)",
     "output_type": "error",
     "traceback": [
      "\u001b[0;36m  Cell \u001b[0;32mIn[40], line 2\u001b[0;36m\u001b[0m\n\u001b[0;31m    d_3 keys = d_3.keys()\u001b[0m\n\u001b[0m        ^\u001b[0m\n\u001b[0;31mSyntaxError\u001b[0m\u001b[0;31m:\u001b[0m invalid syntax\n"
     ]
    }
   ],
   "source": [
    "# .keys()\n",
    "d_3 keys = d_3.keys()\n",
    "print (d_3_keys)\n",
    "\n",
    "for k in d_3_keys:\n",
    "    print(k)"
   ]
  },
  {
   "cell_type": "markdown",
   "metadata": {},
   "source": [
    "##### Looping Only Values"
   ]
  },
  {
   "cell_type": "code",
   "execution_count": null,
   "metadata": {
    "scrolled": true
   },
   "outputs": [],
   "source": [
    "# .values()\n",
    "\n",
    "\n"
   ]
  },
  {
   "cell_type": "markdown",
   "metadata": {},
   "source": [
    "## In-Class Exercise #2 - Create a Function that Prints All Key Value Pairs within a formatted string  <br>\n",
    "<p><b>Output should be:</b><br>\n",
    "Max has blue eyes<br>\n",
    "Lilly has brown eyes<br>\n",
    "Barney has blue eyes<br>\n",
    "etc.\n",
    "</p>"
   ]
  },
  {
   "cell_type": "code",
   "execution_count": null,
   "metadata": {},
   "outputs": [
    {
     "name": "stdout",
     "output_type": "stream",
     "text": [
      "Max has blue eyes\n",
      "Lilly has brown eyes\n",
      "Barney has green eyes\n",
      "Ted has purple eyes\n",
      "Sasuke has sharingan eyes\n"
     ]
    }
   ],
   "source": [
    "# use the dict below\n",
    "people = {\n",
    "    'Max' : 'blue',\n",
    "    'Lilly' : 'brown',\n",
    "    'Barney' : 'green',\n",
    "    'Ted' : 'purple',\n",
    "    'Sasuke' : 'sharingan'    \n",
    "} \n",
    "#answer to this question is bellow\n",
    "for key, value in people.items():\n",
    "    print(f\"{key} has {value} eyes\")\n"
   ]
  },
  {
   "cell_type": "markdown",
   "metadata": {},
   "source": [
    "##### sorted()"
   ]
  },
  {
   "cell_type": "code",
   "execution_count": null,
   "metadata": {},
   "outputs": [],
   "source": [
    "# sorts variables in order\n",
    "# sorted(dict.values()) or dict.keys() or dict.items()\n",
    "people = {\n",
    "    'Max' : 'blue',\n",
    "    'Lilly' : 'brown',\n",
    "    'Barney' : 'green',\n",
    "    'Ted' : 'purple',\n",
    "    'Sasuke' : 'sharingan'    \n",
    "} \n",
    "\n",
    "print (\"values\" , )\n"
   ]
  },
  {
   "cell_type": "markdown",
   "metadata": {},
   "source": [
    "##### List with Dictionaries"
   ]
  },
  {
   "cell_type": "code",
   "execution_count": null,
   "metadata": {},
   "outputs": [
    {
     "name": "stdout",
     "output_type": "stream",
     "text": [
      "Shikamaru\n",
      "Gaara\n",
      "OctoPops\n",
      "{'leaf_village': 'Naruto', 'leaf_village2': 'Kakashi'}\n",
      "\n",
      "\n",
      "{'leaf_village': 'Naruto', 'leaf_village2': 'Kakashi'}\n",
      "{'leaf_village': 'Naruto', 'leaf_village2': 'Kakashi'}\n",
      "Kakashi\n",
      "Kakashi\n",
      "Kakashi\n",
      "Naruto\n"
     ]
    }
   ],
   "source": [
    "#              0            1        2                                   3 \n",
    "shinobi = [\"Shikamaru\", \"Gaara\", \"OctoPops\", {\"leaf_village\": \"Naruto\", \"leaf_village2\": \"Kakashi\"}]\n",
    "\n",
    "for name in shinobi:\n",
    "    print(name)\n",
    "    \n",
    "print(\"\\n\")\n",
    "\n",
    "print(shinobi[3])\n",
    "\n",
    "print(shinobi[3])\n",
    "\n",
    "my_shinobi = shinobi[3]\n",
    "\n",
    "print(my_shinobi[\"leaf_village2\"])\n",
    "\n",
    "print(shinobi[3]['leaf_village2'])\n",
    "print(shinobi[-1]['leaf_village2'])\n",
    "\n",
    "shinobi_dict = {\"leaf_village\": \"Naruto\", \"leaf_village2\": \"Kakashi\"}\n",
    "\n",
    "print(shinobi_dict[\"leaf_village\"])\n"
   ]
  },
  {
   "cell_type": "markdown",
   "metadata": {},
   "source": [
    "##### Dictionaries with Lists"
   ]
  },
  {
   "cell_type": "code",
   "execution_count": null,
   "metadata": {},
   "outputs": [
    {
     "name": "stdout",
     "output_type": "stream",
     "text": [
      "Bulbasaur\n",
      "65\n"
     ]
    }
   ],
   "source": [
    "# be careful when using numbers as keys in dictionaries, don't confuse them with indexes\n",
    "some_data = {\n",
    "    \"list_1\":[54, 65, 90],\n",
    "    \"names\":[\"John\", \"Laura\", \"Bulbasaur\"]\n",
    "}\n",
    "#too call the last name\n",
    "print(some_data[\"names\"][-1])\n",
    "print(some_data[\"list_1\"][1])"
   ]
  },
  {
   "cell_type": "markdown",
   "metadata": {},
   "source": [
    "##### Dictionaries with Dictionaries"
   ]
  },
  {
   "cell_type": "code",
   "execution_count": null,
   "metadata": {
    "scrolled": true
   },
   "outputs": [],
   "source": [
    "# to get values, must traverse through keys\n",
    "# to get values, must traverse through keys\n",
    "\n",
    "\n",
    "            \n",
    "food_dict = {\n",
    "    \"Ryan\": {\n",
    "    \"Mexican\": [\"Tacos\", \"Tortas\", \"Conchas\"],\n",
    "    \"Desserts\": [\"Cheesecake\", \"Pie\", \"Chocolate Chip Cookies\", \"Cupcakes\"]\n",
    "    },\n",
    "    \"Javier\": {\n",
    "    \"Dominican\": [\"Mango\", \"PassionFruit\", \"Flan\"],\n",
    "    \"American\": [\"Chicken\", \"Gravy\", \"Mashed Potatos\"]\n",
    "    },\n",
    "    \"Miguel\": {\n",
    "    \"Vegan\": [\"Beans\", \"Fruits\", \"Vegetables\"],\n",
    "    \"Desserts\": [\"peanuts\", \"cookies\", \"popcorn\", \"soda\"]\n",
    "    },\n",
    "    \"Grace\": {\n",
    "    \"Indian Food\" : [\"Palak Paneer\", \"Naan\", \"Chana Masala\"],\n",
    "    \"Desserts\" : [\"Lemon Bars\", \"Cheesecake\", \"Pies\"]\n",
    "    },\n",
    "    \"Anthony\":{\n",
    "    \"Spanish\":[\"Tacos\",\"Mofongo\", \"Papusas\"],\n",
    "    \"Desserts\":[\"Cheescake\", \"Flan\", \"Oreos\", \"M&Ms\"]\n",
    "    },\n",
    "    \"Bikram\" :  {\n",
    "    \"Food\":[\"Pasta\", \"Fried Chicken\" , \"Rice\"],\n",
    "        \"Desserts\":[\"Chocolate Cake\" ,\"Ice Cream\" \"Dunots\"]  \n",
    "},\n",
    "    \"Juan\": {\n",
    "    \"Mexican Seafood\": [\"Langostinos\", \"Ceviche\", \"Chapuzon\"],\n",
    "    \"Desserts\": [\"Cheesecake\", \"Flan\", \"Brownies\"]\n",
    "},\n",
    "    \"Connor\":{\n",
    "    \"Pasta\": [\"penne\", \"spagetti\",\"farfelle\"],\n",
    "    \"Pizza\" : [\"Chicago Style pizza\", \"Detroit Style Pizza (best pizza)\", \"New York Pizza\"],\n",
    "    \"Cake\": [\"Cheesecake (best)\", \"Carrot Cake\", \"Chocholate Pican Cake\"]\n",
    "},\n",
    "    \"Justin\": {\n",
    "    \"Vietnamese\" : [\"Pho\", \"Banh Mi\", \"Bun Bo Hue\"],\n",
    "    \"Fruits\" : [\"Apple\", \"Pear\", \"Grapes\", \"Jackfruit\"]\n",
    "},\n",
    "    \"Claudel\": {\"Haitian\": [\"kalalou\", \"tchaka\", \"bouton\"],\n",
    "                  \"desert\": [\"kremas\", \"bonbonsiwo\", \"dousmakos\"]\n",
    "               },\n",
    "    \"Andres\": {\n",
    "        \"Italian\": [\"Pasta\", \"Raviolis\", \"Pizza\"],\n",
    "        \"Desserts\": [\"Ice cream\", \"Cookies\", \"Brownies\", \"Waffle\"]\n",
    "},\n",
    "    \"Berik\": {\n",
    "    \"Kazakh\": [\"Beshbarmak\", \"Kuyrdak\", \"Kebab\"],\n",
    "    \"Deserts\" : [\"Kaymak\", \"Medovik\", \"Tort\"]},\n",
    "    \"Wil\" : {\n",
    "    \"beef\": [\"tacos\",\"torta\",\"queso\"],\n",
    "    \"eggs\": [\"over_easy\",\"over_less_easy\",\"with_queso\"]},\n",
    "    \"Dez\": {\n",
    "        \"Korean\" : ['Bibimbop', 'Kimchi', 'Samgyeopsa', 'Tteokbokki', 'Bulgogi']\n",
    "    },\n",
    "    \"Kym\": {\n",
    "    \"Asian\": [\"Ramen\", \"Sushi\", \"Fried Noodles\"],\n",
    "    \"Desserts\": [\"Dark_chocalate\", \"Ice cream\",\"honeycake\"]}, \n",
    "    \n",
    "}\n",
    "    \n",
    "\n",
    "\n"
   ]
  },
  {
   "cell_type": "code",
   "execution_count": null,
   "metadata": {},
   "outputs": [
    {
     "name": "stdout",
     "output_type": "stream",
     "text": [
      "Ryan\n",
      "Javier\n",
      "Miguel\n",
      "Grace\n",
      "Anthony\n",
      "Bikram\n",
      "Juan\n",
      "Connor\n",
      "Justin\n",
      "Claudel\n",
      "Andres\n",
      "Berik\n",
      "Wil\n",
      "Dez\n",
      "Kym\n"
     ]
    }
   ],
   "source": [
    "#getting the names in dict\n",
    "for person in food_dict:\n",
    "    print(person)"
   ]
  },
  {
   "cell_type": "code",
   "execution_count": null,
   "metadata": {},
   "outputs": [
    {
     "name": "stdout",
     "output_type": "stream",
     "text": [
      "{'Mexican': ['Tacos', 'Tortas', 'Conchas'], 'Desserts': ['Cheesecake', 'Pie', 'Chocolate Chip Cookies', 'Cupcakes']}\n",
      "{'Dominican': ['Mango', 'PassionFruit', 'Flan'], 'American': ['Chicken', 'Gravy', 'Mashed Potatos']}\n",
      "{'Vegan': ['Beans', 'Fruits', 'Vegetables'], 'Desserts': ['peanuts', 'cookies', 'popcorn', 'soda']}\n",
      "{'Indian Food': ['Palak Paneer', 'Naan', 'Chana Masala'], 'Desserts': ['Lemon Bars', 'Cheesecake', 'Pies']}\n",
      "{'Spanish': ['Tacos', 'Mofongo', 'Papusas'], 'Desserts': ['Cheescake', 'Flan', 'Oreos', 'M&Ms']}\n",
      "{'Food': ['Pasta', 'Fried Chicken', 'Rice'], 'Desserts': ['Chocolate Cake', 'Ice CreamDunots']}\n",
      "{'Mexican Seafood': ['Langostinos', 'Ceviche', 'Chapuzon'], 'Desserts': ['Cheesecake', 'Flan', 'Brownies']}\n",
      "{'Pasta': ['penne', 'spagetti', 'farfelle'], 'Pizza': ['Chicago Style pizza', 'Detroit Style Pizza (best pizza)', 'New York Pizza'], 'Cake': ['Cheesecake (best)', 'Carrot Cake', 'Chocholate Pican Cake']}\n",
      "{'Vietnamese': ['Pho', 'Banh Mi', 'Bun Bo Hue'], 'Fruits': ['Apple', 'Pear', 'Grapes', 'Jackfruit']}\n",
      "{'Haitian': ['kalalou', 'tchaka', 'bouton'], 'desert': ['kremas', 'bonbonsiwo', 'dousmakos']}\n",
      "{'Italian': ['Pasta', 'Raviolis', 'Pizza'], 'Desserts': ['Ice cream', 'Cookies', 'Brownies', 'Waffle']}\n",
      "{'Kazakh': ['Beshbarmak', 'Kuyrdak', 'Kebab'], 'Deserts': ['Kaymak', 'Medovik', 'Tort']}\n",
      "{'beef': ['tacos', 'torta', 'queso'], 'eggs': ['over_easy', 'over_less_easy', 'with_queso']}\n",
      "{'Korean': ['Bibimbop', 'Kimchi', 'Samgyeopsa', 'Tteokbokki', 'Bulgogi']}\n",
      "{'Asian': ['Ramen', 'Sushi', 'Fried Noodles'], 'Desserts': ['Dark_chocalate', 'Ice cream', 'honeycake']}\n"
     ]
    }
   ],
   "source": [
    "# looping through the values of food dict\n",
    "for food in food_dict.values():\n",
    "    print(food)"
   ]
  },
  {
   "cell_type": "code",
   "execution_count": null,
   "metadata": {},
   "outputs": [
    {
     "name": "stdout",
     "output_type": "stream",
     "text": [
      "{'Spanish': ['Tacos', 'Mofongo', 'Papusas'], 'Desserts': ['Cheescake', 'Flan', 'Oreos', 'M&Ms']}\n",
      "Tacos\n",
      "Mofongo\n",
      "Papusas\n",
      "Cheescake\n",
      "Flan\n",
      "Oreos\n",
      "M&Ms\n"
     ]
    }
   ],
   "source": [
    "# accessing a specific persons fav food type\n",
    "print(food_dict[\"Anthony\"])\n",
    "\n",
    "for food in food_dict[\"Anthony\"][\"Spanish\"]:\n",
    "    print(food)\n",
    "    \n",
    "for desserts in food_dict[\"Anthony\"][\"Desserts\"]:\n",
    "    print(desserts)"
   ]
  },
  {
   "cell_type": "code",
   "execution_count": null,
   "metadata": {},
   "outputs": [
    {
     "name": "stdout",
     "output_type": "stream",
     "text": [
      "Here are all of our favorite foods!\n",
      "\n",
      "Ryan's favorites foods are: \n",
      "Tacos\n",
      "Tortas\n",
      "Conchas\n",
      "Cheesecake\n",
      "Pie\n",
      "Chocolate Chip Cookies\n",
      "Cupcakes\n",
      "\n",
      "Javier's favorites foods are: \n",
      "Mango\n",
      "PassionFruit\n",
      "Flan\n",
      "Chicken\n",
      "Gravy\n",
      "Mashed Potatos\n",
      "\n",
      "Miguel's favorites foods are: \n",
      "Beans\n",
      "Fruits\n",
      "Vegetables\n",
      "peanuts\n",
      "cookies\n",
      "popcorn\n",
      "soda\n",
      "\n",
      "Grace's favorites foods are: \n",
      "Palak Paneer\n",
      "Naan\n",
      "Chana Masala\n",
      "Lemon Bars\n",
      "Cheesecake\n",
      "Pies\n",
      "\n",
      "Anthony's favorites foods are: \n",
      "Tacos\n",
      "Mofongo\n",
      "Papusas\n",
      "Cheescake\n",
      "Flan\n",
      "Oreos\n",
      "M&Ms\n",
      "\n",
      "Bikram's favorites foods are: \n",
      "Pasta\n",
      "Fried Chicken\n",
      "Rice\n",
      "Chocolate Cake\n",
      "Ice CreamDunots\n",
      "\n",
      "Juan's favorites foods are: \n",
      "Langostinos\n",
      "Ceviche\n",
      "Chapuzon\n",
      "Cheesecake\n",
      "Flan\n",
      "Brownies\n",
      "\n",
      "Connor's favorites foods are: \n",
      "penne\n",
      "spagetti\n",
      "farfelle\n",
      "Chicago Style pizza\n",
      "Detroit Style Pizza (best pizza)\n",
      "New York Pizza\n",
      "Cheesecake (best)\n",
      "Carrot Cake\n",
      "Chocholate Pican Cake\n",
      "\n",
      "Justin's favorites foods are: \n",
      "Pho\n",
      "Banh Mi\n",
      "Bun Bo Hue\n",
      "Apple\n",
      "Pear\n",
      "Grapes\n",
      "Jackfruit\n",
      "\n",
      "Claudel's favorites foods are: \n",
      "kalalou\n",
      "tchaka\n",
      "bouton\n",
      "kremas\n",
      "bonbonsiwo\n",
      "dousmakos\n",
      "\n",
      "Andres's favorites foods are: \n",
      "Pasta\n",
      "Raviolis\n",
      "Pizza\n",
      "Ice cream\n",
      "Cookies\n",
      "Brownies\n",
      "Waffle\n",
      "\n",
      "Berik's favorites foods are: \n",
      "Beshbarmak\n",
      "Kuyrdak\n",
      "Kebab\n",
      "Kaymak\n",
      "Medovik\n",
      "Tort\n",
      "\n",
      "Wil's favorites foods are: \n",
      "tacos\n",
      "torta\n",
      "queso\n",
      "over_easy\n",
      "over_less_easy\n",
      "with_queso\n",
      "\n",
      "Dez's favorites foods are: \n",
      "Bibimbop\n",
      "Kimchi\n",
      "Samgyeopsa\n",
      "Tteokbokki\n",
      "Bulgogi\n",
      "\n",
      "Kym's favorites foods are: \n",
      "Ramen\n",
      "Sushi\n",
      "Fried Noodles\n",
      "Dark_chocalate\n",
      "Ice cream\n",
      "honeycake\n"
     ]
    }
   ],
   "source": [
    "# printing everyone's favorite foods\n",
    "print(\"Here are all of our favorite foods!\")\n",
    "for name in food_dict.keys():\n",
    "    print(f\"\\n{name}'s favorites foods are: \")\n",
    "    for food_type in food_dict[name].keys():\n",
    "        for food in food_dict[name][food_type]:\n",
    "            print(food)\n",
    "            "
   ]
  },
  {
   "cell_type": "markdown",
   "metadata": {},
   "source": [
    "## Dictionaries vs. Lists (over time) Example of RUNTIME\n",
    "### When inputting values in a Dictionary vs List"
   ]
  },
  {
   "cell_type": "code",
   "execution_count": null,
   "metadata": {},
   "outputs": [],
   "source": []
  },
  {
   "cell_type": "code",
   "execution_count": null,
   "metadata": {},
   "outputs": [],
   "source": [
    "import time\n",
    "\n",
    "#generate dictionary\n",
    "\n",
    "    \n",
    "\n",
    "    \n",
    "\n"
   ]
  },
  {
   "cell_type": "code",
   "execution_count": null,
   "metadata": {},
   "outputs": [],
   "source": [
    "#track the time for the dictionary\n",
    "\n",
    "\n",
    "\n",
    "        "
   ]
  },
  {
   "cell_type": "markdown",
   "metadata": {},
   "source": [
    "## Exercise #3 - Write a Function that asks someone's name and address, and then stores that into a dictionary, and continues to do so until they choose to 'quit'. Once they quit, the program should print all names and addresses. <br>\n",
    "<p>\n",
    "<b>Proper steps:</b><br>\n",
    "step 1: write a function that takes in information and stores it in a dictionary<br>\n",
    "step 2: define an empty dictionary to work with<br>\n",
    "step 3: create our loop, which asks the user for information until they quit<br>\n",
    "step 4: ask for the information, and store it into variables<br>\n",
    "step 5: check if the user types quit<br>\n",
    "step 5a: print out all information<br>\n",
    "step 5b: break out of the loop<br>\n",
    "step 6: if they didn't quit, add the information to the dictionary<br>\n",
    "step 7: invoke the function by calling it\n",
    "</p>"
   ]
  },
  {
   "cell_type": "code",
   "execution_count": null,
   "metadata": {},
   "outputs": [
    {
     "name": "stdout",
     "output_type": "stream",
     "text": [
      "Enter a name or say 'quit' to quit: quit\n"
     ]
    }
   ],
   "source": [
    "from IPython.display import clear_output\n",
    "\n",
    "#step 1 work on function tmmr\n",
    "\n",
    "#step 2 empty dict\n",
    "d = {}\n",
    "\n",
    "#step 3 create loop\n",
    "while True:\n",
    "    \n",
    "    #step 4 \n",
    "    name = input(\"Enter a name or say 'quit' to quit: \")\n",
    "    if name.strip().lower()!= 'quit':\n",
    "        address = input(\"Enter an address or say 'quit' to quit. \")\n",
    "        \n",
    "    #step 5\n",
    "    if name.lower()== \"quit\" or address.lower() == \"quit\":\n",
    "        #step 5.a\n",
    "        for name, address in d.items():\n",
    "            print(f\"the address for {name} is {address}\")\n",
    "        break\n",
    "    #step 6\n",
    "    d[name]= address\n",
    "\n",
    "\n",
    "            \n",
    "        \n",
    "        "
   ]
  },
  {
   "cell_type": "markdown",
   "metadata": {},
   "source": [
    "## Set <br>\n",
    "<p>A Set is an unordered collection data type that is iterable (loop), mutable, and has no duplicate elements.<br>Major advantage is that it is highly optimized in checking if something is in the set, as opposed to checking if something is in a list.</p>"
   ]
  },
  {
   "cell_type": "markdown",
   "metadata": {},
   "source": [
    "##### Declaring"
   ]
  },
  {
   "cell_type": "code",
   "execution_count": null,
   "metadata": {
    "scrolled": false
   },
   "outputs": [
    {
     "name": "stdout",
     "output_type": "stream",
     "text": [
      "{8, 1, 4}\n"
     ]
    }
   ],
   "source": [
    "# set() or {}\n",
    "# no order {3, 2, 1} outputs as {1, 2, 3}\n",
    "my_set = set()\n",
    "\n",
    "nums = {4,1,8,4,8}\n",
    "#removes duplicates\n",
    "print(nums)\n"
   ]
  },
  {
   "cell_type": "code",
   "execution_count": null,
   "metadata": {
    "scrolled": true
   },
   "outputs": [
    {
     "name": "stdout",
     "output_type": "stream",
     "text": [
      "{1, 2, 3, 4}\n"
     ]
    }
   ],
   "source": [
    "#remove all duplicates from the list\n",
    "my_list = [1,1,1,1,1,1,2,2,2,2,2,3,3,3,3,3,4,4,4,4,4,4]\n",
    "\n",
    "remove_dups = set(my_list)\n",
    "print(remove_dups)"
   ]
  },
  {
   "cell_type": "markdown",
   "metadata": {},
   "source": [
    "##### .add()"
   ]
  },
  {
   "cell_type": "code",
   "execution_count": null,
   "metadata": {},
   "outputs": [
    {
     "name": "stdout",
     "output_type": "stream",
     "text": [
      "{1, 2, 3, 4}\n",
      "{1, 2, 3, 4, 8}\n"
     ]
    }
   ],
   "source": [
    "# set.add()\n",
    "my_set = {1, 2, 3, 4}\n",
    "print(my_set)\n",
    "my_set.add(8)\n",
    "print(my_set)\n",
    "\n",
    "\n"
   ]
  },
  {
   "cell_type": "markdown",
   "metadata": {},
   "source": [
    "##### .remove()"
   ]
  },
  {
   "cell_type": "code",
   "execution_count": null,
   "metadata": {},
   "outputs": [
    {
     "name": "stdout",
     "output_type": "stream",
     "text": [
      "{1, 2, 3}\n"
     ]
    }
   ],
   "source": [
    "# removes by value\n",
    "# set.remove()\n",
    "my_set = {1, 2, 3, 4}\n",
    "my_set.remove(4)\n",
    "print(my_set)\n"
   ]
  },
  {
   "cell_type": "markdown",
   "metadata": {},
   "source": [
    "##### .union() "
   ]
  },
  {
   "cell_type": "code",
   "execution_count": null,
   "metadata": {},
   "outputs": [
    {
     "name": "stdout",
     "output_type": "stream",
     "text": [
      "{1, 2, 3, 4, 5, 6, 7, 8}\n"
     ]
    }
   ],
   "source": [
    "# Returns a union of two sets, can also use '|' or set.union(set)\n",
    "# joins all numbers, gets rid of duplicates\n",
    "s1 = {1, 2, 3, 4}\n",
    "s2 = {5, 6, 7, 8}\n",
    "\n",
    "s3 = s1.union(s2)\n",
    "print(s3)\n"
   ]
  },
  {
   "cell_type": "markdown",
   "metadata": {},
   "source": [
    "##### .intersection()"
   ]
  },
  {
   "cell_type": "code",
   "execution_count": null,
   "metadata": {},
   "outputs": [
    {
     "name": "stdout",
     "output_type": "stream",
     "text": [
      "{3, 4}\n"
     ]
    }
   ],
   "source": [
    "# Returns an intersection of two sets, can also use '&'\n",
    "# only takes similar elements from both sets\n",
    "s1 = {1, 2, 3, 4}\n",
    "s2 = {3, 4, 5, 6, 3}\n",
    "\n",
    "s3 = s1.intersection(s2)\n",
    "print(s3)"
   ]
  },
  {
   "cell_type": "markdown",
   "metadata": {},
   "source": [
    "##### .difference()"
   ]
  },
  {
   "cell_type": "code",
   "execution_count": null,
   "metadata": {},
   "outputs": [
    {
     "name": "stdout",
     "output_type": "stream",
     "text": [
      "{1, 2}\n",
      "{5, 6}\n"
     ]
    }
   ],
   "source": [
    "# Returns a set containing all the elements of invoking set that are not in the second set, can also use '-'\n",
    "# only takes values from the first set that are not in the second set\n",
    "# order matters\n",
    "\n",
    "s1 = {1, 2, 3, 4}\n",
    "s2 = {3, 4, 5, 6}\n",
    "\n",
    "s3 = s1.difference(s2)\n",
    "print(s3)\n",
    "\n",
    "s4 = s2 - s1\n",
    "print(s4)"
   ]
  },
  {
   "cell_type": "markdown",
   "metadata": {},
   "source": [
    "##### .clear()"
   ]
  },
  {
   "cell_type": "code",
   "execution_count": null,
   "metadata": {},
   "outputs": [
    {
     "name": "stdout",
     "output_type": "stream",
     "text": [
      "{1, 2, 3, 4, 6, 55}\n",
      "set()\n"
     ]
    }
   ],
   "source": [
    "# Empties the whole set\n",
    "# set.clear()\n",
    "s1 = {1, 2, 3, 3, 4, 55, 6}\n",
    "print(s1)\n",
    "\n",
    "s1.clear()\n",
    "print(s1)"
   ]
  },
  {
   "cell_type": "markdown",
   "metadata": {},
   "source": [
    "##### Frozenset <br>\n",
    "<p>Frozen sets are immutable objects that only support methods and operators that produce a result without affecting the frozen set or sets to which they are applied.</p><br><b>Unique & Immutable</b>"
   ]
  },
  {
   "cell_type": "code",
   "execution_count": null,
   "metadata": {},
   "outputs": [
    {
     "name": "stdout",
     "output_type": "stream",
     "text": [
      "{1, 2, 3, 4, 'My cat is cool', 'hello'}\n",
      "frozenset({1, 2, 3, 4, 'My cat is cool', 'hello'})\n"
     ]
    }
   ],
   "source": [
    "# frozenset([])\n",
    "my_set = {1 , 2, 3, 4, \"hello\", \"My cat is cool\"}\n",
    "print(my_set)\n",
    "\n",
    "frozen_set = frozenset(my_set)\n",
    "print(frozen_set)"
   ]
  },
  {
   "cell_type": "markdown",
   "metadata": {},
   "source": [
    "# Exercises"
   ]
  },
  {
   "cell_type": "markdown",
   "metadata": {},
   "source": [
    "### 1) Build a Shopping Cart <br>\n",
    "<p><b>You can use either lists or dictionaries. The program should have the following capabilities:</b><br><br>\n",
    "1) Takes in input <br>\n",
    "2) Stores user input into a dictionary or list <br>\n",
    "3) The User can add or delete items <br>\n",
    "4) The User can see current shopping list <br>\n",
    "5) The program Loops until user 'quits' <br>\n",
    "6) Upon quiting the program, print out all items in the user's list <br>\n",
    "</p>"
   ]
  },
  {
   "cell_type": "code",
   "execution_count": null,
   "metadata": {},
   "outputs": [
    {
     "name": "stdout",
     "output_type": "stream",
     "text": [
      "Enter a food or say 'quit' to quit: eggs\n",
      "Enter an price or say 'quit' to quit. 10.99\n",
      "What would you like to do ! add/delete/view/quitview\n"
     ]
    }
   ],
   "source": [
    "from IPython.display import clear_output\n",
    "\n",
    "# Ask the user four bits of input: Do you want to : Show/Add/Delete or Quit?\n",
    "\n",
    "d = {}\n",
    "\n",
    "#step 3 create loop\n",
    "while True:\n",
    "    \n",
    "    #step 4 \n",
    "    name = input(\"Enter a food or say 'quit' to quit: \")\n",
    "    if name.strip().lower()!= 'quit':\n",
    "        address = input(\"Enter an price or say 'quit' to quit. \")\n",
    "    \n",
    "    response = input (\"What would you like to do ! add/delete/view/quit\")\n",
    "    \n",
    "    if response == \"add\":\n",
    "        pass\n",
    "    elif response == \"delete\":\n",
    "        pass\n",
    "    elif response == \"view\":\n",
    "        pass\n",
    "    elif response == \"quit\":\n",
    "        pass\n",
    "    else:\n",
    "        print(\"please enter a valid response\")\n",
    "    #step 5\n",
    "    if name.lower()== \"quit\" or address.lower() == \"quit\":\n",
    "        #step 5.a\n",
    "        for name, address in d.items():\n",
    "            print(f\"the address for {name} is {address}\")\n",
    "        break\n",
    "    #step 6\n",
    "    d[name]= address\n",
    "\n"
   ]
  },
  {
   "cell_type": "markdown",
   "metadata": {},
   "source": [
    "### 2) Set Practice"
   ]
  },
  {
   "cell_type": "markdown",
   "metadata": {},
   "source": [
    "<p><b>Remove all duplicates from the following list</b></p>"
   ]
  },
  {
   "cell_type": "code",
   "execution_count": null,
   "metadata": {},
   "outputs": [
    {
     "name": "stdout",
     "output_type": "stream",
     "text": [
      "{1, 2, 3, 4, 5, 6, 11, 12, 14, 16}\n"
     ]
    }
   ],
   "source": [
    "nums_list = [1, 1, 1, 2, 2, 3, 5, 6, 4, 12, 11, 12, 12, 14, 16, 16, 16, 1, 1, 1, 2, 2]\n",
    "nums_dups = set(nums_list)\n",
    "print(nums_dups)"
   ]
  },
  {
   "cell_type": "markdown",
   "metadata": {},
   "source": [
    "<p><b>Out put the intersection of the following the following sets.</b></p>"
   ]
  },
  {
   "cell_type": "code",
   "execution_count": null,
   "metadata": {},
   "outputs": [
    {
     "name": "stdout",
     "output_type": "stream",
     "text": [
      "{26, 27}\n"
     ]
    }
   ],
   "source": [
    "set1 = {20, 24, 26, 27}\n",
    "set2 = {26, 35, 63, 27}\n",
    "\n",
    "set3 = set1.intersection(set2)\n",
    "print(set3)"
   ]
  },
  {
   "cell_type": "markdown",
   "metadata": {},
   "source": [
    "<p><b>Output the difference between the following sets</b></p>"
   ]
  },
  {
   "cell_type": "code",
   "execution_count": 96,
   "metadata": {},
   "outputs": [
    {
     "name": "stdout",
     "output_type": "stream",
     "text": [
      "{89, 100}\n"
     ]
    }
   ],
   "source": [
    "set3 = {100, 65, 89, 200}\n",
    "set4 = {65, 103, 54, 200}\n",
    "\n",
    "set5 = set3.difference(set4)\n",
    "print(set5)"
   ]
  },
  {
   "cell_type": "code",
   "execution_count": null,
   "metadata": {},
   "outputs": [],
   "source": []
  }
 ],
 "metadata": {
  "kernelspec": {
   "display_name": "Python 3 (ipykernel)",
   "language": "python",
   "name": "python3"
  },
  "language_info": {
   "codemirror_mode": {
    "name": "ipython",
    "version": 3
   },
   "file_extension": ".py",
   "mimetype": "text/x-python",
   "name": "python",
   "nbconvert_exporter": "python",
   "pygments_lexer": "ipython3",
   "version": "3.9.7"
  }
 },
 "nbformat": 4,
 "nbformat_minor": 2
}
